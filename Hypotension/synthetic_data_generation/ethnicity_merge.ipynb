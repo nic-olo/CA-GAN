{
  "cells": [
    {
      "cell_type": "code",
      "execution_count": null,
      "metadata": {
        "id": "ZJDKXa1WC5b4"
      },
      "outputs": [],
      "source": [
        "import pandas as pd\n",
        "import numpy as np\n",
        "from tqdm import tqdm\n",
        "import os\n",
        "from datetime import date, datetime"
      ]
    },
    {
      "cell_type": "code",
      "execution_count": null,
      "metadata": {
        "id": "0evPxO0F6-p4"
      },
      "outputs": [],
      "source": [
        "INPUT_PATH = 'YOUR INPUT PATH'\n",
        "df = pd.read_csv(INPUT_PATH + 'data_real_transformed.csv')\n",
        "ethnicity = pd.read_csv(INPUT_PATH + 'demographics_icustayid.csv')\n",
        "real = pd.read_csv(INPUT_PATH + 'data_real.csv')"
      ]
    },
    {
      "cell_type": "code",
      "execution_count": null,
      "metadata": {
        "id": "1hsy1MoUeWM4"
      },
      "outputs": [],
      "source": [
        "ethnicity = ethnicity.dropna(subset=['icustay_id'], axis=0).reset_index(drop=True)"
      ]
    },
    {
      "cell_type": "code",
      "execution_count": null,
      "metadata": {
        "id": "xA0GKqM7TKhG"
      },
      "outputs": [],
      "source": [
        "categories = []\n",
        "for i in ethnicity['ethnicity']:\n",
        "  if not i in categories:\n",
        "    categories.append(i)\n",
        "\n",
        "categories.sort()"
      ]
    },
    {
      "cell_type": "code",
      "execution_count": null,
      "metadata": {
        "id": "Zw56a3iNWPyn"
      },
      "outputs": [],
      "source": [
        "white = []\n",
        "black = []\n",
        "hispanic = []\n",
        "asian = []\n",
        "other = []\n",
        "\n",
        "for category in categories:\n",
        "  if category.find('WHITE') != -1:\n",
        "    white.append(category)\n",
        "  elif category.find('BLACK') != -1:\n",
        "    black.append(category)\n",
        "  elif category.find('HISPANIC') != -1:\n",
        "    hispanic.append(category)\n",
        "  elif category.find('ASIAN') != -1:\n",
        "    asian.append(category)\n",
        "  else:\n",
        "    other.append(category)\n"
      ]
    },
    {
      "cell_type": "code",
      "execution_count": null,
      "metadata": {
        "id": "vIFUCRN4QKFh"
      },
      "outputs": [],
      "source": [
        "ethnicity = ethnicity.replace(white,'WHITE')\n",
        "ethnicity = ethnicity.replace(black,'BLACK')\n",
        "ethnicity = ethnicity.replace(hispanic,'HISPANIC')\n",
        "ethnicity = ethnicity.replace(asian,'ASIAN')\n",
        "ethnicity = ethnicity.replace(other,'OTHER')"
      ]
    },
    {
      "cell_type": "code",
      "source": [
        "ethnicity = ethnicity.drop(ethnicity[(ethnicity['ethnicity'] != 'WHITE') & (ethnicity['ethnicity'] != 'BLACK')].index, inplace=False)\n",
        "\n",
        "# 0 white, 1 black \n",
        "ethnicity = ethnicity.replace('WHITE', 0)\n",
        "ethnicity = ethnicity.replace('BLACK', 1)"
      ],
      "metadata": {
        "id": "ySwjWzesvVec"
      },
      "execution_count": null,
      "outputs": []
    },
    {
      "cell_type": "code",
      "source": [
        "ethnicity_ids = np.array(ethnicity['icustay_id'])\n",
        "df = df.loc[df['icustay_id'].isin(ethnicity_ids)]\n",
        "hypotension_ids = np.array(df['icustay_id'].unique())\n",
        "ethnicity = ethnicity.loc[ethnicity['icustay_id'].isin(hypotension_ids)]"
      ],
      "metadata": {
        "id": "6-O9b2-lwWZP"
      },
      "execution_count": null,
      "outputs": []
    },
    {
      "cell_type": "code",
      "source": [
        "assert any(ethnicity['icustay_id'] == df['icustay_id'].unique()), \"ids do not match\""
      ],
      "metadata": {
        "id": "aOfOzeCJ3Cey"
      },
      "execution_count": null,
      "outputs": []
    },
    {
      "cell_type": "code",
      "source": [
        "ethnicity = pd.concat([ethnicity]*48).sort_index().reset_index(drop=True)\n",
        "df.reset_index(drop=True, inplace=True)\n",
        "df['ethnicity'] = ethnicity['ethnicity']\n",
        "df.sort_values(['icustay_id', 'hour'], inplace=True)"
      ],
      "metadata": {
        "id": "05AQCUzB3cmU"
      },
      "execution_count": null,
      "outputs": []
    },
    {
      "cell_type": "code",
      "execution_count": null,
      "metadata": {
        "id": "8ABT5su-RFJ6"
      },
      "outputs": [],
      "source": [
        "real = real.loc[real['icustay_id'].isin(hypotension_ids)]\n",
        "df.reset_index(drop=True, inplace=True)\n",
        "real.sort_values(['icustay_id', 'hours'], inplace=True)\n",
        "real['ethnicity'] = df['ethnicity']"
      ]
    },
    {
      "cell_type": "code",
      "execution_count": null,
      "metadata": {
        "id": "vSpRO0V9G-7M"
      },
      "outputs": [],
      "source": [
        "OUTPUT_PATH = 'YOUR OUTPUT PATH'\n",
        "\n",
        "df.to_pickle(OUTPUT_PATH + \"data_real_transformed.pkl\")\n",
        "df.to_csv(OUTPUT_PATH + \"data_real_transformed.csv\", index=False)\n",
        "real.to_pickle(OUTPUT_PATH + \"data_real.pkl\")\n",
        "real.to_csv(OUTPUT_PATH + \"data_real.csv\", index=False)"
      ]
    }
  ],
  "metadata": {
    "colab": {
      "collapsed_sections": [],
      "provenance": []
    },
    "gpuClass": "standard",
    "kernelspec": {
      "display_name": "Python 3",
      "name": "python3"
    },
    "language_info": {
      "name": "python"
    }
  },
  "nbformat": 4,
  "nbformat_minor": 0
}